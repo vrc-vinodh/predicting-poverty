{
 "cells": [
  {
   "cell_type": "code",
   "execution_count": 1,
   "metadata": {},
   "outputs": [],
   "source": [
    "import pandas as pd\n",
    "import numpy as np\n",
    "from sklearn.linear_model import Lasso\n",
    "from sklearn.linear_model import LinearRegression\n",
    "from sklearn.model_selection import train_test_split\n",
    "from sklearn.metrics import mean_squared_error, r2_score\n",
    "import matplotlib.pyplot as plt\n",
    "import statsmodels.api as sm"
   ]
  },
  {
   "cell_type": "code",
   "execution_count": 2,
   "metadata": {},
   "outputs": [],
   "source": [
    "predictor = pd.read_csv('traindata-poverty-can-use-country-internet.csv', index_col=0)"
   ]
  },
  {
   "cell_type": "code",
   "execution_count": 3,
   "metadata": {},
   "outputs": [],
   "source": [
    "predictor.fillna(\"0\", inplace = True)"
   ]
  },
  {
   "cell_type": "code",
   "execution_count": 4,
   "metadata": {},
   "outputs": [],
   "source": [
    "predictor1 = predictor.drop(['poverty_probability', 'prob', 'reg','poverty_prob'], axis=1)"
   ]
  },
  {
   "cell_type": "markdown",
   "metadata": {},
   "source": [
    "# country separation"
   ]
  },
  {
   "cell_type": "code",
   "execution_count": 5,
   "metadata": {},
   "outputs": [],
   "source": [
    "predictorA = predictor[predictor.country == 'A']\n",
    "predictorC = predictor[predictor.country == 'C']\n",
    "predictorD = predictor[predictor.country == 'D']\n",
    "predictorF = predictor[predictor.country == 'F']\n",
    "predictorG = predictor[predictor.country == 'G']\n",
    "predictorI = predictor[predictor.country == 'I']\n",
    "predictorJ = predictor[predictor.country == 'J']"
   ]
  },
  {
   "cell_type": "markdown",
   "metadata": {},
   "source": [
    "# Internet"
   ]
  },
  {
   "cell_type": "code",
   "execution_count": 6,
   "metadata": {},
   "outputs": [],
   "source": [
    "predictorAIF = predictorA[predictorA.advanced_phone_use == 0]\n",
    "predictorCIF = predictorC[predictorC.advanced_phone_use == 0]\n",
    "predictorDIF = predictorD[predictorD.advanced_phone_use == 0]\n",
    "predictorFIF = predictorF[predictorF.advanced_phone_use == 0]\n",
    "predictorGIF = predictorG[predictorG.advanced_phone_use == 0]\n",
    "predictorIIF = predictorI[predictorI.advanced_phone_use == 0]\n",
    "predictorJIF = predictorJ[predictorJ.advanced_phone_use == 0]"
   ]
  },
  {
   "cell_type": "code",
   "execution_count": 7,
   "metadata": {},
   "outputs": [],
   "source": [
    "predictorAIT = predictorA[predictorA.advanced_phone_use == 1]\n",
    "predictorCIT = predictorC[predictorC.advanced_phone_use == 1]\n",
    "predictorDIT = predictorD[predictorD.advanced_phone_use == 1]\n",
    "predictorFIT = predictorF[predictorF.advanced_phone_use == 1]\n",
    "predictorGIT = predictorG[predictorG.advanced_phone_use == 1]\n",
    "predictorIIT = predictorI[predictorI.advanced_phone_use == 1]\n",
    "predictorJIT = predictorJ[predictorJ.advanced_phone_use == 1]"
   ]
  },
  {
   "cell_type": "code",
   "execution_count": 8,
   "metadata": {},
   "outputs": [],
   "source": [
    "predictorAIF1 = predictorAIF.drop(['country', 'poverty_probability', 'prob', 'reg','poverty_prob'], axis=1)\n",
    "predictorCIF1 = predictorCIF.drop(['country', 'poverty_probability', 'prob', 'reg','poverty_prob'], axis=1)\n",
    "predictorDIF1 = predictorDIF.drop(['country', 'poverty_probability', 'prob', 'reg','poverty_prob'], axis=1)\n",
    "predictorFIF1 = predictorFIF.drop(['country', 'poverty_probability', 'prob', 'reg','poverty_prob'], axis=1)\n",
    "predictorGIF1 = predictorGIF.drop(['country', 'poverty_probability', 'prob', 'reg','poverty_prob'], axis=1)\n",
    "predictorIIF1 = predictorIIF.drop(['country', 'poverty_probability', 'prob', 'reg','poverty_prob'], axis=1)\n",
    "predictorJIF1 = predictorJIF.drop(['country', 'poverty_probability', 'prob', 'reg','poverty_prob'], axis=1)"
   ]
  },
  {
   "cell_type": "code",
   "execution_count": 9,
   "metadata": {},
   "outputs": [],
   "source": [
    "predictorAIT1 = predictorAIT.drop(['country', 'poverty_probability', 'prob', 'reg','poverty_prob'], axis=1)\n",
    "predictorCIT1 = predictorCIT.drop(['country', 'poverty_probability', 'prob', 'reg','poverty_prob'], axis=1)\n",
    "predictorDIT1 = predictorDIT.drop(['country', 'poverty_probability', 'prob', 'reg','poverty_prob'], axis=1)\n",
    "predictorFIT1 = predictorFIT.drop(['country', 'poverty_probability', 'prob', 'reg','poverty_prob'], axis=1)\n",
    "predictorGIT1 = predictorGIT.drop(['country', 'poverty_probability', 'prob', 'reg','poverty_prob'], axis=1)\n",
    "predictorIIT1 = predictorIIT.drop(['country', 'poverty_probability', 'prob', 'reg','poverty_prob'], axis=1)\n",
    "predictorJIT1 = predictorJIT.drop(['country', 'poverty_probability', 'prob', 'reg','poverty_prob'], axis=1)"
   ]
  },
  {
   "cell_type": "code",
   "execution_count": 10,
   "metadata": {},
   "outputs": [],
   "source": [
    "XAIF1 = predictorAIF1.values\n",
    "YAIF1 = predictorAIF['reg'].values\n",
    "\n",
    "XCIF1 = predictorCIF1.values\n",
    "YCIF1 = predictorCIF['reg'].values\n",
    "\n",
    "XDIF1 = predictorDIF1.values\n",
    "YDIF1 = predictorDIF['reg'].values\n",
    "\n",
    "XFIF1 = predictorFIF1.values\n",
    "YFIF1 = predictorFIF['reg'].values\n",
    "\n",
    "XGIF1 = predictorGIF1.values\n",
    "YGIF1 = predictorGIF['reg'].values\n",
    "\n",
    "XIIF1 = predictorIIF1.values\n",
    "YIIF1 = predictorIIF['reg'].values\n",
    "\n",
    "XJIF1 = predictorJIF1.values\n",
    "YJIF1 = predictorJIF['reg'].values\n",
    "\n",
    "XAIT1 = predictorAIT1.values\n",
    "YAIT1 = predictorAIT['reg'].values\n",
    "\n",
    "XCIT1 = predictorCIT1.values\n",
    "YCIT1 = predictorCIT['reg'].values\n",
    "\n",
    "XDIT1 = predictorDIT1.values\n",
    "YDIT1 = predictorDIT['reg'].values\n",
    "\n",
    "XFIT1 = predictorFIT1.values\n",
    "YFIT1 = predictorFIT['reg'].values\n",
    "\n",
    "XGIT1 = predictorGIT1.values\n",
    "YGIT1 = predictorGIT['reg'].values\n",
    "\n",
    "XIIT1 = predictorIIT1.values\n",
    "YIIT1 = predictorIIT['reg'].values\n",
    "\n",
    "XJIT1 = predictorJIT1.values\n",
    "YJIT1 = predictorJIT['reg'].values"
   ]
  },
  {
   "cell_type": "code",
   "execution_count": 11,
   "metadata": {},
   "outputs": [],
   "source": [
    "X_train, X_test, Y_train, Y_test = train_test_split(XAIF1, YAIF1, test_size=0.25, random_state=32)"
   ]
  },
  {
   "cell_type": "code",
   "execution_count": 12,
   "metadata": {
    "scrolled": false
   },
   "outputs": [
    {
     "data": {
      "text/plain": [
       "Lasso(alpha=1.0, copy_X=True, fit_intercept=True, max_iter=1000,\n",
       "   normalize=False, positive=False, precompute=False, random_state=None,\n",
       "   selection='cyclic', tol=0.0001, warm_start=False)"
      ]
     },
     "execution_count": 12,
     "metadata": {},
     "output_type": "execute_result"
    }
   ],
   "source": [
    "reg = Lasso()\n",
    "reg.fit(X_train, Y_train)"
   ]
  },
  {
   "cell_type": "code",
   "execution_count": 13,
   "metadata": {},
   "outputs": [],
   "source": [
    "y_pred = reg.predict(X_test)"
   ]
  },
  {
   "cell_type": "code",
   "execution_count": 14,
   "metadata": {},
   "outputs": [],
   "source": [
    "Y_predicted_train = reg.predict(X_train)"
   ]
  },
  {
   "cell_type": "markdown",
   "metadata": {},
   "source": []
  },
  {
   "cell_type": "code",
   "execution_count": 15,
   "metadata": {},
   "outputs": [],
   "source": [
    "Y_predicted = reg.predict(X_test)"
   ]
  },
  {
   "cell_type": "code",
   "execution_count": 16,
   "metadata": {
    "scrolled": true
   },
   "outputs": [
    {
     "data": {
      "image/png": "[encoded data removed]",
      "text/plain": [
       "<Figure size 432x288 with 1 Axes>"
      ]
     },
     "metadata": {
      "needs_background": "light"
     },
     "output_type": "display_data"
    }
   ],
   "source": [
    "fig, ax = plt.subplots()\n",
    "ax.scatter(Y_test, Y_predicted)\n",
    "ax.plot([Y_test.min(), Y_test.max()], [Y_test.min(), Y_test.max()], 'k--', lw=1)\n",
    "ax.set_xlabel('measured')\n",
    "ax.set_ylabel('predicted')\n",
    "plt.show()"
   ]
  },
  {
   "cell_type": "code",
   "execution_count": 17,
   "metadata": {},
   "outputs": [
    {
     "name": "stdout",
     "output_type": "stream",
     "text": [
      "Mean Absolute Error of training data: 1.2058255006596217\n",
      "Mean Squared Error of training data: 2.230087753012687\n",
      "Root Mean Squared Error of training data: 1.49334783389962\n"
     ]
    }
   ],
   "source": [
    "from sklearn import metrics\n",
    "print('Mean Absolute Error of training data:', metrics.mean_absolute_error(Y_train, Y_predicted_train))  \n",
    "print('Mean Squared Error of training data:', metrics.mean_squared_error(Y_train, Y_predicted_train))  \n",
    "print('Root Mean Squared Error of training data:', np.sqrt(metrics.mean_squared_error(Y_train, Y_predicted_train)))"
   ]
  },
  {
   "cell_type": "code",
   "execution_count": 18,
   "metadata": {},
   "outputs": [
    {
     "name": "stdout",
     "output_type": "stream",
     "text": [
      "Mean Absolute Error of test data: 1.1294667632277566\n",
      "Mean Squared Error of test data: 1.9865660755896972\n",
      "Root Mean Squared Error of test data: 1.4094559502125978\n"
     ]
    }
   ],
   "source": [
    "from sklearn import metrics\n",
    "print('Mean Absolute Error of test data:', metrics.mean_absolute_error(Y_test, Y_predicted))  \n",
    "print('Mean Squared Error of test data:', metrics.mean_squared_error(Y_test, Y_predicted))  \n",
    "print('Root Mean Squared Error of test data:', np.sqrt(metrics.mean_squared_error(Y_test, Y_predicted)))"
   ]
  },
  {
   "cell_type": "code",
   "execution_count": 19,
   "metadata": {},
   "outputs": [
    {
     "name": "stdout",
     "output_type": "stream",
     "text": [
      "[ 0.01415381 -0.02584254  0.02042067 -0.00500512  0.01312597  0.02063996\n",
      "  0.02472061  0.0091443   0.04335565 -0.01894184]\n"
     ]
    }
   ],
   "source": [
    "from sklearn.model_selection import cross_val_score\n",
    "cv_results = cross_val_score(reg, XAIF1, YAIF1, cv=10)\n",
    "print(cv_results)"
   ]
  },
  {
   "cell_type": "code",
   "execution_count": 20,
   "metadata": {},
   "outputs": [
    {
     "data": {
      "text/plain": [
       "0.009577146355657474"
      ]
     },
     "execution_count": 20,
     "metadata": {},
     "output_type": "execute_result"
    }
   ],
   "source": [
    "np.mean(cv_results)"
   ]
  },
  {
   "cell_type": "code",
   "execution_count": 21,
   "metadata": {},
   "outputs": [],
   "source": [
    "regAF = Lasso(alpha=0.0001, max_iter=10e5)\n",
    "regCF = Lasso(alpha=0.0001, max_iter=10e5)\n",
    "regDF = Lasso(alpha=0.0001, max_iter=10e5)\n",
    "regFF = Lasso(alpha=0.0001, max_iter=10e5)\n",
    "regGF = Lasso(alpha=0.0001, max_iter=10e5)\n",
    "regIF = Lasso(alpha=0.0001, max_iter=10e5)\n",
    "regJF = Lasso(alpha=0.0001, max_iter=10e5)"
   ]
  },
  {
   "cell_type": "markdown",
   "metadata": {},
   "source": []
  },
  {
   "cell_type": "code",
   "execution_count": 22,
   "metadata": {},
   "outputs": [
    {
     "name": "stderr",
     "output_type": "stream",
     "text": [
      "C:\\ProgramData\\Anaconda3\\lib\\site-packages\\sklearn\\linear_model\\coordinate_descent.py:492: ConvergenceWarning: Objective did not converge. You might want to increase the number of iterations. Fitting data with very small alpha may cause precision problems.\n",
      "  ConvergenceWarning)\n",
      "C:\\ProgramData\\Anaconda3\\lib\\site-packages\\sklearn\\linear_model\\coordinate_descent.py:492: ConvergenceWarning: Objective did not converge. You might want to increase the number of iterations. Fitting data with very small alpha may cause precision problems.\n",
      "  ConvergenceWarning)\n",
      "C:\\ProgramData\\Anaconda3\\lib\\site-packages\\sklearn\\linear_model\\coordinate_descent.py:492: ConvergenceWarning: Objective did not converge. You might want to increase the number of iterations. Fitting data with very small alpha may cause precision problems.\n",
      "  ConvergenceWarning)\n"
     ]
    },
    {
     "data": {
      "text/plain": [
       "Lasso(alpha=0.0001, copy_X=True, fit_intercept=True, max_iter=1000,\n",
       "   normalize=False, positive=False, precompute=False, random_state=None,\n",
       "   selection='cyclic', tol=0.0001, warm_start=False)"
      ]
     },
     "execution_count": 22,
     "metadata": {},
     "output_type": "execute_result"
    }
   ],
   "source": [
    "regAF.fit(XAIF1, YAIF1)\n",
    "regCF.fit(XCIF1, YCIF1)\n",
    "regDF.fit(XDIF1, YDIF1)\n",
    "regFF.fit(XFIF1, YFIF1)\n",
    "regGF.fit(XGIF1, YGIF1)\n",
    "regIF.fit(XIIF1, YIIF1)\n",
    "regJF.fit(XJIF1, YJIF1)"
   ]
  },
  {
   "cell_type": "code",
   "execution_count": 23,
   "metadata": {},
   "outputs": [],
   "source": [
    "lr = LinearRegression()"
   ]
  },
  {
   "cell_type": "markdown",
   "metadata": {},
   "source": [
    "country A"
   ]
  },
  {
   "cell_type": "code",
   "execution_count": 24,
   "metadata": {},
   "outputs": [],
   "source": [
    "testAF = pd.read_csv('A-valcountry.csv', index_col=0)\n",
    "testCF = pd.read_csv('C-valcountry.csv', index_col=0)\n",
    "testDF = pd.read_csv('D-valcountry.csv', index_col=0)\n",
    "testFF = pd.read_csv('F-valcountry.csv', index_col=0)\n",
    "testGF = pd.read_csv('G-valcountry.csv', index_col=0)\n",
    "testIF = pd.read_csv('I-valcountry.csv', index_col=0)\n",
    "testJF = pd.read_csv('J-valcountry.csv', index_col=0)"
   ]
  },
  {
   "cell_type": "code",
   "execution_count": 25,
   "metadata": {},
   "outputs": [],
   "source": [
    "AFtestvalues = testAF.values\n",
    "CFtestvalues = testCF.values\n",
    "DFtestvalues = testDF.values\n",
    "FFtestvalues = testFF.values\n",
    "GFtestvalues = testGF.values\n",
    "IFtestvalues = testIF.values\n",
    "JFtestvalues = testJF.values"
   ]
  },
  {
   "cell_type": "code",
   "execution_count": 26,
   "metadata": {
    "scrolled": false
   },
   "outputs": [],
   "source": [
    "povertyAF = regAF.predict(AFtestvalues)\n",
    "povertyAF = povertyAF.tolist()\n",
    "\n",
    "povertyCF = regCF.predict(CFtestvalues)\n",
    "povertyCF = povertyCF.tolist()\n",
    "\n",
    "povertyDF = regDF.predict(DFtestvalues)\n",
    "povertyDF = povertyDF.tolist()\n",
    "\n",
    "povertyFF = regFF.predict(FFtestvalues)\n",
    "povertyFF = povertyFF.tolist()\n",
    "\n",
    "povertyGF = regGF.predict(GFtestvalues)\n",
    "povertyGF = povertyGF.tolist()\n",
    "\n",
    "povertyIF = regIF.predict(IFtestvalues)\n",
    "povertyIF = povertyIF.tolist()\n",
    "\n",
    "povertyJF = regJF.predict(JFtestvalues)\n",
    "povertyJF = povertyJF.tolist()"
   ]
  },
  {
   "cell_type": "code",
   "execution_count": 27,
   "metadata": {},
   "outputs": [],
   "source": [
    "lr = LinearRegression()"
   ]
  },
  {
   "cell_type": "code",
   "execution_count": 28,
   "metadata": {},
   "outputs": [],
   "source": [
    "rowidAF = testAF.index.tolist()\n",
    "rowidCF = testCF.index.tolist()\n",
    "rowidDF = testDF.index.tolist()\n",
    "rowidFF = testFF.index.tolist()\n",
    "rowidGF = testGF.index.tolist()\n",
    "rowidIF = testIF.index.tolist()\n",
    "rowidJF = testJF.index.tolist()"
   ]
  },
  {
   "cell_type": "code",
   "execution_count": 29,
   "metadata": {},
   "outputs": [],
   "source": [
    "AF = pd.DataFrame(povertyAF,rowidAF)\n",
    "CF = pd.DataFrame(povertyCF,rowidCF)\n",
    "DF = pd.DataFrame(povertyDF,rowidDF)\n",
    "FF = pd.DataFrame(povertyFF,rowidFF)\n",
    "GF = pd.DataFrame(povertyGF,rowidGF)\n",
    "IF = pd.DataFrame(povertyIF,rowidIF)\n",
    "JF = pd.DataFrame(povertyJF,rowidJF)"
   ]
  },
  {
   "cell_type": "code",
   "execution_count": 30,
   "metadata": {},
   "outputs": [],
   "source": [
    "AF.index.name = 'row_id'\n",
    "CF.index.name = 'row_id'\n",
    "DF.index.name = 'row_id'\n",
    "FF.index.name = 'row_id'\n",
    "GF.index.name = 'row_id'\n",
    "IF.index.name = 'row_id'\n",
    "JF.index.name = 'row_id'"
   ]
  },
  {
   "cell_type": "code",
   "execution_count": 31,
   "metadata": {},
   "outputs": [],
   "source": [
    "AF.columns = ['reg']\n",
    "CF.columns = ['reg']\n",
    "DF.columns = ['reg']\n",
    "FF.columns = ['reg']\n",
    "GF.columns = ['reg']\n",
    "IF.columns = ['reg']\n",
    "JF.columns = ['reg']"
   ]
  },
  {
   "cell_type": "code",
   "execution_count": 32,
   "metadata": {},
   "outputs": [],
   "source": [
    "df = pd.concat([AF, CF, DF, FF, GF, IF, JF])"
   ]
  },
  {
   "cell_type": "code",
   "execution_count": 33,
   "metadata": {},
   "outputs": [],
   "source": [
    "df = df.astype('float64')"
   ]
  },
  {
   "cell_type": "code",
   "execution_count": 34,
   "metadata": {},
   "outputs": [],
   "source": [
    "df.to_csv('poverty-model-country-A-J.csv')"
   ]
  }
 ],
 "metadata": {
  "kernelspec": {
   "display_name": "Python 3",
   "language": "python",
   "name": "python3"
  },
  "language_info": {
   "codemirror_mode": {
    "name": "ipython",
    "version": 3
   },
   "file_extension": ".py",
   "mimetype": "text/x-python",
   "name": "python",
   "nbconvert_exporter": "python",
   "pygments_lexer": "ipython3",
   "version": "3.7.1"
  }
 },
 "nbformat": 4,
 "nbformat_minor": 2
}
