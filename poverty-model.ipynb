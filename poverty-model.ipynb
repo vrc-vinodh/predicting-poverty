{
 "cells": [
  {
   "cell_type": "code",
   "execution_count": 1,
   "metadata": {},
   "outputs": [],
   "source": [
    "import pandas as pd\n",
    "import numpy as np\n",
    "from sklearn.linear_model import LinearRegression\n",
    "from sklearn.model_selection import train_test_split\n",
    "from sklearn.metrics import mean_squared_error, r2_score\n",
    "import matplotlib.pyplot as plt\n",
    "import statsmodels.api as sm"
   ]
  },
  {
   "cell_type": "code",
   "execution_count": 2,
   "metadata": {},
   "outputs": [],
   "source": [
    "import statsmodels.api as sm"
   ]
  },
  {
   "cell_type": "code",
   "execution_count": 3,
   "metadata": {},
   "outputs": [],
   "source": [
    "predictor = pd.read_csv('testdata-poverty.csv', index_col=0)"
   ]
  },
  {
   "cell_type": "code",
   "execution_count": 4,
   "metadata": {},
   "outputs": [],
   "source": [
    "predictor.fillna(\"0\", inplace = True)"
   ]
  },
  {
   "cell_type": "code",
   "execution_count": 5,
   "metadata": {},
   "outputs": [
    {
     "data": {
      "text/plain": [
       "Index(['is_urban', 'age', 'female', 'married', 'literacy', 'can_add',\n",
       "       'can_divide', 'can_calc_percents', 'can_calc_compounding',\n",
       "       'employed_last_year',\n",
       "       ...\n",
       "       'num_financial_activities1', 'num_financial_activities2',\n",
       "       'num_financial_activities3', 'num_financial_activities4',\n",
       "       'num_financial_activities5', 'num_financial_activities6',\n",
       "       'num_financial_activities7', 'num_financial_activities8',\n",
       "       'num_financial_activities9', 'num_financial_activities10'],\n",
       "      dtype='object', length=103)"
      ]
     },
     "execution_count": 5,
     "metadata": {},
     "output_type": "execute_result"
    }
   ],
   "source": [
    "predictor.columns"
   ]
  },
  {
   "cell_type": "code",
   "execution_count": 6,
   "metadata": {},
   "outputs": [
    {
     "data": {
      "text/html": [
       "<div>\n",
       "<style scoped>\n",
       "    .dataframe tbody tr th:only-of-type {\n",
       "        vertical-align: middle;\n",
       "    }\n",
       "\n",
       "    .dataframe tbody tr th {\n",
       "        vertical-align: top;\n",
       "    }\n",
       "\n",
       "    .dataframe thead th {\n",
       "        text-align: right;\n",
       "    }\n",
       "</style>\n",
       "<table border=\"1\" class=\"dataframe\">\n",
       "  <thead>\n",
       "    <tr style=\"text-align: right;\">\n",
       "      <th></th>\n",
       "      <th>is_urban</th>\n",
       "      <th>age</th>\n",
       "      <th>female</th>\n",
       "      <th>married</th>\n",
       "      <th>literacy</th>\n",
       "      <th>can_add</th>\n",
       "      <th>can_divide</th>\n",
       "      <th>can_calc_percents</th>\n",
       "      <th>can_calc_compounding</th>\n",
       "      <th>employed_last_year</th>\n",
       "      <th>...</th>\n",
       "      <th>num_financial_activities1</th>\n",
       "      <th>num_financial_activities2</th>\n",
       "      <th>num_financial_activities3</th>\n",
       "      <th>num_financial_activities4</th>\n",
       "      <th>num_financial_activities5</th>\n",
       "      <th>num_financial_activities6</th>\n",
       "      <th>num_financial_activities7</th>\n",
       "      <th>num_financial_activities8</th>\n",
       "      <th>num_financial_activities9</th>\n",
       "      <th>num_financial_activities10</th>\n",
       "    </tr>\n",
       "    <tr>\n",
       "      <th>row_id</th>\n",
       "      <th></th>\n",
       "      <th></th>\n",
       "      <th></th>\n",
       "      <th></th>\n",
       "      <th></th>\n",
       "      <th></th>\n",
       "      <th></th>\n",
       "      <th></th>\n",
       "      <th></th>\n",
       "      <th></th>\n",
       "      <th></th>\n",
       "      <th></th>\n",
       "      <th></th>\n",
       "      <th></th>\n",
       "      <th></th>\n",
       "      <th></th>\n",
       "      <th></th>\n",
       "      <th></th>\n",
       "      <th></th>\n",
       "      <th></th>\n",
       "      <th></th>\n",
       "    </tr>\n",
       "  </thead>\n",
       "  <tbody>\n",
       "    <tr>\n",
       "      <th>0</th>\n",
       "      <td>0.0</td>\n",
       "      <td>18</td>\n",
       "      <td>1.0</td>\n",
       "      <td>1.0</td>\n",
       "      <td>1.0</td>\n",
       "      <td>1.0</td>\n",
       "      <td>1.0</td>\n",
       "      <td>1.0</td>\n",
       "      <td>1.0</td>\n",
       "      <td>0.0</td>\n",
       "      <td>...</td>\n",
       "      <td>1</td>\n",
       "      <td>0</td>\n",
       "      <td>0</td>\n",
       "      <td>0</td>\n",
       "      <td>0</td>\n",
       "      <td>0</td>\n",
       "      <td>0</td>\n",
       "      <td>0</td>\n",
       "      <td>0</td>\n",
       "      <td>0</td>\n",
       "    </tr>\n",
       "    <tr>\n",
       "      <th>1</th>\n",
       "      <td>1.0</td>\n",
       "      <td>30</td>\n",
       "      <td>1.0</td>\n",
       "      <td>1.0</td>\n",
       "      <td>1.0</td>\n",
       "      <td>1.0</td>\n",
       "      <td>1.0</td>\n",
       "      <td>0.0</td>\n",
       "      <td>0.0</td>\n",
       "      <td>0.0</td>\n",
       "      <td>...</td>\n",
       "      <td>0</td>\n",
       "      <td>0</td>\n",
       "      <td>0</td>\n",
       "      <td>0</td>\n",
       "      <td>0</td>\n",
       "      <td>0</td>\n",
       "      <td>0</td>\n",
       "      <td>0</td>\n",
       "      <td>0</td>\n",
       "      <td>0</td>\n",
       "    </tr>\n",
       "    <tr>\n",
       "      <th>2</th>\n",
       "      <td>0.0</td>\n",
       "      <td>20</td>\n",
       "      <td>1.0</td>\n",
       "      <td>1.0</td>\n",
       "      <td>1.0</td>\n",
       "      <td>1.0</td>\n",
       "      <td>1.0</td>\n",
       "      <td>1.0</td>\n",
       "      <td>0.0</td>\n",
       "      <td>1.0</td>\n",
       "      <td>...</td>\n",
       "      <td>0</td>\n",
       "      <td>0</td>\n",
       "      <td>0</td>\n",
       "      <td>0</td>\n",
       "      <td>0</td>\n",
       "      <td>0</td>\n",
       "      <td>0</td>\n",
       "      <td>0</td>\n",
       "      <td>0</td>\n",
       "      <td>0</td>\n",
       "    </tr>\n",
       "    <tr>\n",
       "      <th>3</th>\n",
       "      <td>0.0</td>\n",
       "      <td>61</td>\n",
       "      <td>0.0</td>\n",
       "      <td>1.0</td>\n",
       "      <td>0.0</td>\n",
       "      <td>1.0</td>\n",
       "      <td>1.0</td>\n",
       "      <td>0.0</td>\n",
       "      <td>1.0</td>\n",
       "      <td>1.0</td>\n",
       "      <td>...</td>\n",
       "      <td>0</td>\n",
       "      <td>0</td>\n",
       "      <td>0</td>\n",
       "      <td>0</td>\n",
       "      <td>0</td>\n",
       "      <td>0</td>\n",
       "      <td>0</td>\n",
       "      <td>0</td>\n",
       "      <td>0</td>\n",
       "      <td>0</td>\n",
       "    </tr>\n",
       "    <tr>\n",
       "      <th>4</th>\n",
       "      <td>0.0</td>\n",
       "      <td>26</td>\n",
       "      <td>1.0</td>\n",
       "      <td>1.0</td>\n",
       "      <td>1.0</td>\n",
       "      <td>0.0</td>\n",
       "      <td>1.0</td>\n",
       "      <td>0.0</td>\n",
       "      <td>0.0</td>\n",
       "      <td>0.0</td>\n",
       "      <td>...</td>\n",
       "      <td>0</td>\n",
       "      <td>0</td>\n",
       "      <td>1</td>\n",
       "      <td>0</td>\n",
       "      <td>0</td>\n",
       "      <td>0</td>\n",
       "      <td>0</td>\n",
       "      <td>0</td>\n",
       "      <td>0</td>\n",
       "      <td>0</td>\n",
       "    </tr>\n",
       "  </tbody>\n",
       "</table>\n",
       "<p>5 rows × 103 columns</p>\n",
       "</div>"
      ],
      "text/plain": [
       "        is_urban  age  female  married  literacy  can_add  can_divide  \\\n",
       "row_id                                                                  \n",
       "0            0.0   18     1.0      1.0       1.0      1.0         1.0   \n",
       "1            1.0   30     1.0      1.0       1.0      1.0         1.0   \n",
       "2            0.0   20     1.0      1.0       1.0      1.0         1.0   \n",
       "3            0.0   61     0.0      1.0       0.0      1.0         1.0   \n",
       "4            0.0   26     1.0      1.0       1.0      0.0         1.0   \n",
       "\n",
       "        can_calc_percents  can_calc_compounding  employed_last_year  \\\n",
       "row_id                                                                \n",
       "0                     1.0                   1.0                 0.0   \n",
       "1                     0.0                   0.0                 0.0   \n",
       "2                     1.0                   0.0                 1.0   \n",
       "3                     0.0                   1.0                 1.0   \n",
       "4                     0.0                   0.0                 0.0   \n",
       "\n",
       "                   ...              num_financial_activities1  \\\n",
       "row_id             ...                                          \n",
       "0                  ...                                      1   \n",
       "1                  ...                                      0   \n",
       "2                  ...                                      0   \n",
       "3                  ...                                      0   \n",
       "4                  ...                                      0   \n",
       "\n",
       "        num_financial_activities2  num_financial_activities3  \\\n",
       "row_id                                                         \n",
       "0                               0                          0   \n",
       "1                               0                          0   \n",
       "2                               0                          0   \n",
       "3                               0                          0   \n",
       "4                               0                          1   \n",
       "\n",
       "        num_financial_activities4  num_financial_activities5  \\\n",
       "row_id                                                         \n",
       "0                               0                          0   \n",
       "1                               0                          0   \n",
       "2                               0                          0   \n",
       "3                               0                          0   \n",
       "4                               0                          0   \n",
       "\n",
       "        num_financial_activities6  num_financial_activities7  \\\n",
       "row_id                                                         \n",
       "0                               0                          0   \n",
       "1                               0                          0   \n",
       "2                               0                          0   \n",
       "3                               0                          0   \n",
       "4                               0                          0   \n",
       "\n",
       "        num_financial_activities8  num_financial_activities9  \\\n",
       "row_id                                                         \n",
       "0                               0                          0   \n",
       "1                               0                          0   \n",
       "2                               0                          0   \n",
       "3                               0                          0   \n",
       "4                               0                          0   \n",
       "\n",
       "        num_financial_activities10  \n",
       "row_id                              \n",
       "0                                0  \n",
       "1                                0  \n",
       "2                                0  \n",
       "3                                0  \n",
       "4                                0  \n",
       "\n",
       "[5 rows x 103 columns]"
      ]
     },
     "execution_count": 6,
     "metadata": {},
     "output_type": "execute_result"
    }
   ],
   "source": [
    "predictor.head()"
   ]
  },
  {
   "cell_type": "code",
   "execution_count": 7,
   "metadata": {},
   "outputs": [],
   "source": [
    "predictor1 = predictor.drop(['poverty_probability', 'prob', 'reg','poverty_prob'], axis=1)"
   ]
  },
  {
   "cell_type": "code",
   "execution_count": 8,
   "metadata": {},
   "outputs": [],
   "source": [
    "X = predictor1.values\n",
    "Y = predictor['reg'].values"
   ]
  },
  {
   "cell_type": "code",
   "execution_count": 9,
   "metadata": {},
   "outputs": [],
   "source": [
    "X_train, X_test, Y_train, Y_test = train_test_split(X, Y, test_size=0.25, random_state=32)"
   ]
  },
  {
   "cell_type": "code",
   "execution_count": 10,
   "metadata": {
    "scrolled": false
   },
   "outputs": [
    {
     "data": {
      "text/plain": [
       "LinearRegression(copy_X=True, fit_intercept=True, n_jobs=None,\n",
       "         normalize=False)"
      ]
     },
     "execution_count": 10,
     "metadata": {},
     "output_type": "execute_result"
    }
   ],
   "source": [
    "reg = LinearRegression()\n",
    "reg.fit(X_train, Y_train)"
   ]
  },
  {
   "cell_type": "code",
   "execution_count": 11,
   "metadata": {
    "scrolled": false
   },
   "outputs": [
    {
     "name": "stdout",
     "output_type": "stream",
     "text": [
      "                            Results: Ordinary least squares\n",
      "========================================================================================\n",
      "Model:                     OLS                     Adj. R-squared:            0.335     \n",
      "Dependent Variable:        y                       AIC:                       45221.4375\n",
      "Date:                      2019-07-18 11:45        BIC:                       45941.7376\n",
      "No. Observations:          12404                   Log-Likelihood:            -22514.   \n",
      "Df Model:                  96                      F-statistic:               66.21     \n",
      "Df Residuals:              12307                   Prob (F-statistic):        0.00      \n",
      "R-squared:                 0.341                   Scale:                     2.2256    \n",
      "----------------------------------------------------------------------------------------\n",
      "                                         Coef.  Std.Err.    t     P>|t|   [0.025  0.975]\n",
      "----------------------------------------------------------------------------------------\n",
      "const                                    2.1211   0.1680  12.6255 0.0000  1.7918  2.4504\n",
      "is_urban                                -0.4512   0.0318 -14.1795 0.0000 -0.5136 -0.3888\n",
      "age                                     -0.0159   0.0012 -13.1442 0.0000 -0.0183 -0.0135\n",
      "female                                   0.0621   0.0390   1.5926 0.1113 -0.0143  0.1384\n",
      "married                                  0.3961   0.0381  10.3839 0.0000  0.3213  0.4708\n",
      "literacy                                -0.1458   0.0389  -3.7433 0.0002 -0.2221 -0.0695\n",
      "can_add                                  0.0620   0.0531   1.1671 0.2432 -0.0421  0.1661\n",
      "can_divide                               0.0448   0.0422   1.0632 0.2877 -0.0378  0.1275\n",
      "can_calc_percents                        0.0201   0.0288   0.6974 0.4855 -0.0364  0.0765\n",
      "can_calc_compounding                     0.0144   0.0288   0.4997 0.6173 -0.0421  0.0709\n",
      "employed_last_year                       1.0629   0.0791  13.4343 0.0000  0.9078  1.2179\n",
      "income_ag_livestock_last_year            0.0105   0.0315   0.3344 0.7381 -0.0513  0.0724\n",
      "income_friends_family_last_year         -0.1593   0.0308  -5.1796 0.0000 -0.2196 -0.0990\n",
      "income_government_last_year              0.2254   0.0604   3.7323 0.0002  0.1070  0.3437\n",
      "income_own_business_last_year           -0.0210   0.0402  -0.5217 0.6019 -0.0999  0.0579\n",
      "income_private_sector_last_year         -0.2039   0.0518  -3.9364 0.0001 -0.3054 -0.1023\n",
      "income_public_sector_last_year          -0.0831   0.0822  -1.0109 0.3121 -0.2441  0.0780\n",
      "num_times_borrowed_last_year             0.0191   0.0277   0.6896 0.4905 -0.0352  0.0735\n",
      "borrowing_recency                        0.0210   0.0278   0.7555 0.4499 -0.0335  0.0756\n",
      "formal_savings                          -0.0574   0.0419  -1.3694 0.1709 -0.1396  0.0248\n",
      "informal_savings                        -0.0375   0.0440  -0.8522 0.3941 -0.1238  0.0488\n",
      "cash_property_savings                   -0.0841   0.0301  -2.7967 0.0052 -0.1430 -0.0251\n",
      "has_insurance                            0.0738   0.0453   1.6287 0.1034 -0.0150  0.1626\n",
      "has_investment                          -0.1503   0.0381  -3.9436 0.0001 -0.2250 -0.0756\n",
      "bank_interest_rate                      -0.0038   0.0050  -0.7541 0.4508 -0.0137  0.0061\n",
      "mm_interest_rate                         0.0056   0.0076   0.7349 0.4624 -0.0093  0.0205\n",
      "mfi_interest_rate                       -0.0044   0.0074  -0.5937 0.5527 -0.0188  0.0101\n",
      "other_fsp_interest_rate                  0.0044   0.0074   0.5979 0.5499 -0.0101  0.0190\n",
      "num_shocks_last_year                     0.1158   0.0170   6.8240 0.0000  0.0825  0.1491\n",
      "avg_shock_strength_last_year             0.0188   0.0092   2.0461 0.0408  0.0008  0.0368\n",
      "borrowed_for_emergency_last_year         0.0956   0.0432   2.2109 0.0271  0.0108  0.1803\n",
      "borrowed_for_daily_expenses_last_year    0.0835   0.0439   1.9031 0.0570 -0.0025  0.1696\n",
      "borrowed_for_home_or_biz_last_year      -0.0898   0.0470  -1.9097 0.0562 -0.1820  0.0024\n",
      "can_call                                -0.0487   0.0382  -1.2739 0.2027 -0.1236  0.0262\n",
      "can_text                                -0.1101   0.0386  -2.8506 0.0044 -0.1858 -0.0344\n",
      "can_use_internet                        -0.1344   0.0451  -2.9815 0.0029 -0.2227 -0.0460\n",
      "can_make_transaction                    -0.2336   0.0432  -5.4049 0.0000 -0.3183 -0.1489\n",
      "advanced_phone_use                       0.0068   0.0417   0.1626 0.8708 -0.0749  0.0885\n",
      "reg_bank_acct                           -0.1821   0.0731  -2.4928 0.0127 -0.3254 -0.0389\n",
      "reg_mm_acct                              0.0689   0.0945   0.7295 0.4657 -0.1162  0.2540\n",
      "reg_formal_nbfi_account                  0.0748   0.0934   0.8004 0.4235 -0.1084  0.2580\n",
      "financially_included                     0.0691   0.0773   0.8933 0.3717 -0.0825  0.2206\n",
      "active_bank_user                        -0.0701   0.0640  -1.0949 0.2736 -0.1956  0.0554\n",
      "active_mm_user                          -0.2468   0.0758  -3.2559 0.0011 -0.3955 -0.0982\n",
      "active_formal_nbfi_user                  0.0138   0.1092   0.1267 0.8991 -0.2001  0.2278\n",
      "active_informal_nbfi_user               -0.0171   0.0817  -0.2099 0.8338 -0.1773  0.1430\n",
      "nonreg_active_mm_user                    0.0023   0.0706   0.0319 0.9745 -0.1362  0.1407\n",
      "num_informal_institutions_last_year      0.0103   0.0604   0.1712 0.8641 -0.1081  0.1287\n",
      "countryC                                -0.3173   0.0864  -3.6723 0.0002 -0.4867 -0.1479\n",
      "countryD                                 0.5239   0.0688   7.6183 0.0000  0.3891  0.6587\n",
      "countryF                                -1.1777   0.0653 -18.0418 0.0000 -1.3057 -1.0498\n",
      "countryG                                -0.3958   0.0768  -5.1564 0.0000 -0.5462 -0.2453\n",
      "countryI                                -1.1992   0.0585 -20.5103 0.0000 -1.3138 -1.0846\n",
      "countryJ                                -1.3185   0.0740 -17.8058 0.0000 -1.4637 -1.1734\n",
      "religionO                               -0.1125   0.2665  -0.4220 0.6730 -0.6348  0.4099\n",
      "religionP                               -0.5641   0.2227  -2.5327 0.0113 -1.0007 -0.1275\n",
      "religionQ                               -0.2159   0.2094  -1.0311 0.3025 -0.6264  0.1946\n",
      "religionX                               -0.2649   0.2078  -1.2748 0.2024 -0.6722  0.1424\n",
      "hh_headHead                             -0.0024   0.0817  -0.0295 0.9765 -0.1625  0.1577\n",
      "hh_headOther                            -0.0098   0.1152  -0.0848 0.9325 -0.2356  0.2160\n",
      "hh_headSister/Brother                    0.0917   0.1199   0.7645 0.4446 -0.1434  0.3268\n",
      "hh_headSon/Daughter                      0.1555   0.0870   1.7868 0.0740 -0.0151  0.3260\n",
      "hh_headSpouse                           -0.1961   0.0830  -2.3634 0.0181 -0.3588 -0.0335\n",
      "hh_headUnknown                          -0.2236   0.3824  -0.5847 0.5588 -0.9731  0.5260\n",
      "education_level1.0                      -0.2184   0.0432  -5.0500 0.0000 -0.3031 -0.1336\n",
      "education_level2.0                      -0.6192   0.0513 -12.0685 0.0000 -0.7198 -0.5186\n",
      "education_level3.0                      -0.7483   0.0705 -10.6078 0.0000 -0.8866 -0.6100\n",
      "employment_categoryhousewife_or_student  0.1597   0.0415   3.8457 0.0001  0.0783  0.2411\n",
      "employment_categoryother                 0.4546   0.0454  10.0167 0.0000  0.3656  0.5435\n",
      "employment_categoryretired_or_disabled   0.2492   0.0656   3.7989 0.0001  0.1206  0.3778\n",
      "employment_categoryunemployed            0.1948   0.0609   3.1975 0.0014  0.0754  0.3142\n",
      "employment_typenot_working               0.6037   0.0609   9.9141 0.0000  0.4843  0.7230\n",
      "employment_typeother                     0.4546   0.0454  10.0167 0.0000  0.3656  0.5435\n",
      "employment_typesalaried                 -0.2811   0.0532  -5.2845 0.0000 -0.3854 -0.1768\n",
      "employment_typeself_employed            -0.2683   0.0468  -5.7377 0.0000 -0.3600 -0.1766\n",
      "share_hh_income2.0                       0.0453   0.0419   1.0821 0.2792 -0.0368  0.1273\n",
      "share_hh_income3.0                       0.0440   0.0542   0.8126 0.4165 -0.0622  0.1502\n",
      "share_hh_income4.0                       0.0757   0.0545   1.3905 0.1644 -0.0310  0.1825\n",
      "share_hh_income5.0                       0.1436   0.0490   2.9340 0.0034  0.0477  0.2396\n",
      "phone_technology1                       -3.0088   1.4957  -2.0117 0.0443 -5.9406 -0.0771\n",
      "phone_technology2                       -2.9760   1.4959  -1.9894 0.0467 -5.9082 -0.0438\n",
      "phone_technology3                       -3.1517   1.4965  -2.1061 0.0352 -6.0850 -0.2184\n",
      "phone_ownership1                        -0.2161   0.0469  -4.6099 0.0000 -0.3080 -0.1242\n",
      "phone_ownership2                         2.5453   1.4959   1.7016 0.0889 -0.3868  5.4774\n",
      "num_formal_institutions1                 0.1131   0.0990   1.1428 0.2531 -0.0809  0.3070\n",
      "num_formal_institutions2                 0.1996   0.1218   1.6392 0.1012 -0.0391  0.4383\n",
      "num_formal_institutions3                 0.0368   0.1683   0.2188 0.8268 -0.2931  0.3667\n",
      "num_formal_institutions4                 0.1174   0.2323   0.5054 0.6133 -0.3380  0.5728\n",
      "num_formal_institutions5                 1.2241   0.4596   2.6635 0.0077  0.3233  2.1250\n",
      "num_formal_institutions6                 1.0015   0.9021   1.1102 0.2669 -0.7668  2.7697\n",
      "num_financial_activities1               -0.1194   0.0972  -1.2284 0.2193 -0.3099  0.0711\n",
      "num_financial_activities2               -0.2958   0.1027  -2.8795 0.0040 -0.4971 -0.0944\n",
      "num_financial_activities3               -0.3394   0.1086  -3.1253 0.0018 -0.5522 -0.1265\n",
      "num_financial_activities4               -0.5693   0.1156  -4.9263 0.0000 -0.7958 -0.3428\n",
      "num_financial_activities5               -0.5278   0.1238  -4.2619 0.0000 -0.7706 -0.2851\n",
      "num_financial_activities6               -0.5544   0.1382  -4.0122 0.0001 -0.8252 -0.2835\n",
      "num_financial_activities7               -0.5470   0.1569  -3.4873 0.0005 -0.8544 -0.2395\n",
      "num_financial_activities8               -0.2998   0.1699  -1.7643 0.0777 -0.6328  0.0333\n",
      "num_financial_activities9               -0.5822   0.2557  -2.2767 0.0228 -1.0834 -0.0810\n",
      "num_financial_activities10              -0.7326   0.3235  -2.2646 0.0236 -1.3668 -0.0985\n",
      "----------------------------------------------------------------------------------------\n",
      "Omnibus:                 162.989           Durbin-Watson:              1.993            \n",
      "Prob(Omnibus):           0.000             Jarque-Bera (JB):           232.682          \n",
      "Skew:                    0.161             Prob(JB):                   0.000            \n",
      "Kurtosis:                3.588             Condition No.:              71451212421436888\n",
      "========================================================================================\n",
      "* The condition number is large (7e+16). This might indicate             strong\n",
      "multicollinearity or other numerical problems.\n"
     ]
    }
   ],
   "source": [
    "X2 = sm.add_constant(predictor1)\n",
    "est = sm.OLS(Y, X2)\n",
    "est2 = est.fit()\n",
    "print(est2.summary2())"
   ]
  },
  {
   "cell_type": "code",
   "execution_count": 14,
   "metadata": {},
   "outputs": [
    {
     "ename": "KeyError",
     "evalue": "\"None of [['is_urban', 'countryD', 'can_text', 'phone_ownership2', 'religionX', 'countryI', 'reg_bank_acct', 'countryF', 'countryJ', 'can_make_transaction', 'literacy', 'num_shocks_last_year', 'age', 'married', 'income_friends_family_last_year', 'education_level2.0', 'education_level3.0', 'hh_headSpouse', 'has_investment', 'religionP', 'countryG', 'active_mm_user', 'phone_technology3', 'education_level1.0', 'income_private_sector_last_year', 'borrowed_for_emergency_last_year', 'phone_ownership1', 'num_financial_activities4', 'countryC', 'formal_savings', 'income_government_last_year', 'employment_typenot_working', 'employment_typeself_employed', 'employment_typesalaried', 'can_use_internet', 'cash_property_savings', 'hh_headSonDaughter', 'share_hh_income5.0', 'num_formal_institutions5', 'num_financial_activities1', 'num_formal_institutions1', 'borrowed_for_daily_expenses_last_year', 'financially_included', 'employed_last_year', 'avg_shock_strength_last_year', 'num_financial_activities5', 'num_financial_activities6']] are in the [index]\"",
     "output_type": "error",
     "traceback": [
      "\u001b[1;31m---------------------------------------------------------------------------\u001b[0m",
      "\u001b[1;31mKeyError\u001b[0m                                  Traceback (most recent call last)",
      "\u001b[1;32m<ipython-input-14-8e75454b668d>\u001b[0m in \u001b[0;36m<module>\u001b[1;34m\u001b[0m\n\u001b[0;32m      9\u001b[0m                         \u001b[1;34m'share_hh_income5.0'\u001b[0m\u001b[1;33m,\u001b[0m\u001b[1;34m'num_formal_institutions5'\u001b[0m\u001b[1;33m,\u001b[0m \u001b[1;34m'num_financial_activities1'\u001b[0m\u001b[1;33m,\u001b[0m \u001b[1;34m'num_formal_institutions1'\u001b[0m\u001b[1;33m,\u001b[0m\u001b[1;33m\u001b[0m\u001b[1;33m\u001b[0m\u001b[0m\n\u001b[0;32m     10\u001b[0m                         \u001b[1;34m'borrowed_for_daily_expenses_last_year'\u001b[0m\u001b[1;33m,\u001b[0m\u001b[1;34m'financially_included'\u001b[0m\u001b[1;33m,\u001b[0m \u001b[1;34m'employed_last_year'\u001b[0m\u001b[1;33m,\u001b[0m\u001b[1;33m\u001b[0m\u001b[1;33m\u001b[0m\u001b[0m\n\u001b[1;32m---> 11\u001b[1;33m                         'avg_shock_strength_last_year', 'num_financial_activities5', 'num_financial_activities6']]\n\u001b[0m",
      "\u001b[1;32mC:\\ProgramData\\Anaconda3\\lib\\site-packages\\pandas\\core\\indexing.py\u001b[0m in \u001b[0;36m__getitem__\u001b[1;34m(self, key)\u001b[0m\n\u001b[0;32m   1476\u001b[0m \u001b[1;33m\u001b[0m\u001b[0m\n\u001b[0;32m   1477\u001b[0m             \u001b[0mmaybe_callable\u001b[0m \u001b[1;33m=\u001b[0m \u001b[0mcom\u001b[0m\u001b[1;33m.\u001b[0m\u001b[0m_apply_if_callable\u001b[0m\u001b[1;33m(\u001b[0m\u001b[0mkey\u001b[0m\u001b[1;33m,\u001b[0m \u001b[0mself\u001b[0m\u001b[1;33m.\u001b[0m\u001b[0mobj\u001b[0m\u001b[1;33m)\u001b[0m\u001b[1;33m\u001b[0m\u001b[1;33m\u001b[0m\u001b[0m\n\u001b[1;32m-> 1478\u001b[1;33m             \u001b[1;32mreturn\u001b[0m \u001b[0mself\u001b[0m\u001b[1;33m.\u001b[0m\u001b[0m_getitem_axis\u001b[0m\u001b[1;33m(\u001b[0m\u001b[0mmaybe_callable\u001b[0m\u001b[1;33m,\u001b[0m \u001b[0maxis\u001b[0m\u001b[1;33m=\u001b[0m\u001b[0maxis\u001b[0m\u001b[1;33m)\u001b[0m\u001b[1;33m\u001b[0m\u001b[1;33m\u001b[0m\u001b[0m\n\u001b[0m\u001b[0;32m   1479\u001b[0m \u001b[1;33m\u001b[0m\u001b[0m\n\u001b[0;32m   1480\u001b[0m     \u001b[1;32mdef\u001b[0m \u001b[0m_is_scalar_access\u001b[0m\u001b[1;33m(\u001b[0m\u001b[0mself\u001b[0m\u001b[1;33m,\u001b[0m \u001b[0mkey\u001b[0m\u001b[1;33m)\u001b[0m\u001b[1;33m:\u001b[0m\u001b[1;33m\u001b[0m\u001b[1;33m\u001b[0m\u001b[0m\n",
      "\u001b[1;32mC:\\ProgramData\\Anaconda3\\lib\\site-packages\\pandas\\core\\indexing.py\u001b[0m in \u001b[0;36m_getitem_axis\u001b[1;34m(self, key, axis)\u001b[0m\n\u001b[0;32m   1899\u001b[0m                     \u001b[1;32mraise\u001b[0m \u001b[0mValueError\u001b[0m\u001b[1;33m(\u001b[0m\u001b[1;34m'Cannot index with multidimensional key'\u001b[0m\u001b[1;33m)\u001b[0m\u001b[1;33m\u001b[0m\u001b[1;33m\u001b[0m\u001b[0m\n\u001b[0;32m   1900\u001b[0m \u001b[1;33m\u001b[0m\u001b[0m\n\u001b[1;32m-> 1901\u001b[1;33m                 \u001b[1;32mreturn\u001b[0m \u001b[0mself\u001b[0m\u001b[1;33m.\u001b[0m\u001b[0m_getitem_iterable\u001b[0m\u001b[1;33m(\u001b[0m\u001b[0mkey\u001b[0m\u001b[1;33m,\u001b[0m \u001b[0maxis\u001b[0m\u001b[1;33m=\u001b[0m\u001b[0maxis\u001b[0m\u001b[1;33m)\u001b[0m\u001b[1;33m\u001b[0m\u001b[1;33m\u001b[0m\u001b[0m\n\u001b[0m\u001b[0;32m   1902\u001b[0m \u001b[1;33m\u001b[0m\u001b[0m\n\u001b[0;32m   1903\u001b[0m             \u001b[1;31m# nested tuple slicing\u001b[0m\u001b[1;33m\u001b[0m\u001b[1;33m\u001b[0m\u001b[1;33m\u001b[0m\u001b[0m\n",
      "\u001b[1;32mC:\\ProgramData\\Anaconda3\\lib\\site-packages\\pandas\\core\\indexing.py\u001b[0m in \u001b[0;36m_getitem_iterable\u001b[1;34m(self, key, axis)\u001b[0m\n\u001b[0;32m   1141\u001b[0m             \u001b[1;32mif\u001b[0m \u001b[0mlabels\u001b[0m\u001b[1;33m.\u001b[0m\u001b[0mis_unique\u001b[0m \u001b[1;32mand\u001b[0m \u001b[0mIndex\u001b[0m\u001b[1;33m(\u001b[0m\u001b[0mkeyarr\u001b[0m\u001b[1;33m)\u001b[0m\u001b[1;33m.\u001b[0m\u001b[0mis_unique\u001b[0m\u001b[1;33m:\u001b[0m\u001b[1;33m\u001b[0m\u001b[1;33m\u001b[0m\u001b[0m\n\u001b[0;32m   1142\u001b[0m                 \u001b[0mindexer\u001b[0m \u001b[1;33m=\u001b[0m \u001b[0max\u001b[0m\u001b[1;33m.\u001b[0m\u001b[0mget_indexer_for\u001b[0m\u001b[1;33m(\u001b[0m\u001b[0mkey\u001b[0m\u001b[1;33m)\u001b[0m\u001b[1;33m\u001b[0m\u001b[1;33m\u001b[0m\u001b[0m\n\u001b[1;32m-> 1143\u001b[1;33m                 \u001b[0mself\u001b[0m\u001b[1;33m.\u001b[0m\u001b[0m_validate_read_indexer\u001b[0m\u001b[1;33m(\u001b[0m\u001b[0mkey\u001b[0m\u001b[1;33m,\u001b[0m \u001b[0mindexer\u001b[0m\u001b[1;33m,\u001b[0m \u001b[0maxis\u001b[0m\u001b[1;33m)\u001b[0m\u001b[1;33m\u001b[0m\u001b[1;33m\u001b[0m\u001b[0m\n\u001b[0m\u001b[0;32m   1144\u001b[0m \u001b[1;33m\u001b[0m\u001b[0m\n\u001b[0;32m   1145\u001b[0m                 \u001b[0md\u001b[0m \u001b[1;33m=\u001b[0m \u001b[1;33m{\u001b[0m\u001b[0maxis\u001b[0m\u001b[1;33m:\u001b[0m \u001b[1;33m[\u001b[0m\u001b[0max\u001b[0m\u001b[1;33m.\u001b[0m\u001b[0mreindex\u001b[0m\u001b[1;33m(\u001b[0m\u001b[0mkeyarr\u001b[0m\u001b[1;33m)\u001b[0m\u001b[1;33m[\u001b[0m\u001b[1;36m0\u001b[0m\u001b[1;33m]\u001b[0m\u001b[1;33m,\u001b[0m \u001b[0mindexer\u001b[0m\u001b[1;33m]\u001b[0m\u001b[1;33m}\u001b[0m\u001b[1;33m\u001b[0m\u001b[1;33m\u001b[0m\u001b[0m\n",
      "\u001b[1;32mC:\\ProgramData\\Anaconda3\\lib\\site-packages\\pandas\\core\\indexing.py\u001b[0m in \u001b[0;36m_validate_read_indexer\u001b[1;34m(self, key, indexer, axis)\u001b[0m\n\u001b[0;32m   1204\u001b[0m                 raise KeyError(\n\u001b[0;32m   1205\u001b[0m                     u\"None of [{key}] are in the [{axis}]\".format(\n\u001b[1;32m-> 1206\u001b[1;33m                         key=key, axis=self.obj._get_axis_name(axis)))\n\u001b[0m\u001b[0;32m   1207\u001b[0m \u001b[1;33m\u001b[0m\u001b[0m\n\u001b[0;32m   1208\u001b[0m             \u001b[1;31m# we skip the warning on Categorical/Interval\u001b[0m\u001b[1;33m\u001b[0m\u001b[1;33m\u001b[0m\u001b[1;33m\u001b[0m\u001b[0m\n",
      "\u001b[1;31mKeyError\u001b[0m: \"None of [['is_urban', 'countryD', 'can_text', 'phone_ownership2', 'religionX', 'countryI', 'reg_bank_acct', 'countryF', 'countryJ', 'can_make_transaction', 'literacy', 'num_shocks_last_year', 'age', 'married', 'income_friends_family_last_year', 'education_level2.0', 'education_level3.0', 'hh_headSpouse', 'has_investment', 'religionP', 'countryG', 'active_mm_user', 'phone_technology3', 'education_level1.0', 'income_private_sector_last_year', 'borrowed_for_emergency_last_year', 'phone_ownership1', 'num_financial_activities4', 'countryC', 'formal_savings', 'income_government_last_year', 'employment_typenot_working', 'employment_typeself_employed', 'employment_typesalaried', 'can_use_internet', 'cash_property_savings', 'hh_headSonDaughter', 'share_hh_income5.0', 'num_formal_institutions5', 'num_financial_activities1', 'num_formal_institutions1', 'borrowed_for_daily_expenses_last_year', 'financially_included', 'employed_last_year', 'avg_shock_strength_last_year', 'num_financial_activities5', 'num_financial_activities6']] are in the [index]\""
     ]
    }
   ],
   "source": [
    "predictor12 = predictor.loc[['is_urban','countryD','can_text','phone_ownership2','religionX','countryI','reg_bank_acct','countryF',\n",
    "                        'countryJ','can_make_transaction','literacy','num_shocks_last_year','age','married',\n",
    "                        'income_friends_family_last_year', 'education_level2.0','education_level3.0','hh_headSpouse',\n",
    "                        'has_investment', 'religionP', 'countryG', 'active_mm_user', 'phone_technology3',\n",
    "                        'education_level1.0', 'income_private_sector_last_year', 'borrowed_for_emergency_last_year',\n",
    "                        'phone_ownership1', 'num_financial_activities4','countryC', 'formal_savings',\n",
    "                        'income_government_last_year', 'employment_typenot_working','employment_typeself_employed',\n",
    "                        'employment_typesalaried', 'can_use_internet', 'cash_property_savings', 'hh_headSonDaughter',\n",
    "                        'share_hh_income5.0','num_formal_institutions5', 'num_financial_activities1', 'num_formal_institutions1',\n",
    "                        'borrowed_for_daily_expenses_last_year','financially_included', 'employed_last_year',\n",
    "                        'avg_shock_strength_last_year', 'num_financial_activities5', 'num_financial_activities6']]"
   ]
  },
  {
   "cell_type": "code",
   "execution_count": 15,
   "metadata": {},
   "outputs": [
    {
     "data": {
      "text/plain": [
       "2.9585610514959813"
      ]
     },
     "execution_count": 15,
     "metadata": {},
     "output_type": "execute_result"
    }
   ],
   "source": [
    "reg.intercept_"
   ]
  },
  {
   "cell_type": "code",
   "execution_count": 16,
   "metadata": {},
   "outputs": [],
   "source": [
    "Y_predicted_train = reg.predict(X_train)"
   ]
  },
  {
   "cell_type": "code",
   "execution_count": 17,
   "metadata": {},
   "outputs": [],
   "source": [
    "Y_predicted = reg.predict(X_test)"
   ]
  },
  {
   "cell_type": "code",
   "execution_count": 18,
   "metadata": {
    "scrolled": true
   },
   "outputs": [
    {
     "data": {
      "image/png": "[encoded data removed]",
      "text/plain": [
       "<Figure size 432x288 with 1 Axes>"
      ]
     },
     "metadata": {
      "needs_background": "light"
     },
     "output_type": "display_data"
    }
   ],
   "source": [
    "fig, ax = plt.subplots()\n",
    "ax.scatter(Y_test, Y_predicted)\n",
    "ax.plot([Y_test.min(), Y_test.max()], [Y_test.min(), Y_test.max()], 'k--', lw=1)\n",
    "ax.set_xlabel('measured')\n",
    "ax.set_ylabel('predicted')\n",
    "plt.show()"
   ]
  },
  {
   "cell_type": "code",
   "execution_count": 19,
   "metadata": {},
   "outputs": [
    {
     "name": "stdout",
     "output_type": "stream",
     "text": [
      "Mean Absolute Error of training data: 1.1429515858606376\n",
      "Mean Squared Error of training data: 2.198616061018095\n",
      "Root Mean Squared Error of training data: 1.4827730982918779\n"
     ]
    }
   ],
   "source": [
    "from sklearn import metrics\n",
    "print('Mean Absolute Error of training data:', metrics.mean_absolute_error(Y_train, Y_predicted_train))  \n",
    "print('Mean Squared Error of training data:', metrics.mean_squared_error(Y_train, Y_predicted_train))  \n",
    "print('Root Mean Squared Error of training data:', np.sqrt(metrics.mean_squared_error(Y_train, Y_predicted_train)))"
   ]
  },
  {
   "cell_type": "code",
   "execution_count": 20,
   "metadata": {},
   "outputs": [
    {
     "name": "stdout",
     "output_type": "stream",
     "text": [
      "Mean Absolute Error of test data: 1.1728271816200355\n",
      "Mean Squared Error of test data: 2.2616842805410204\n",
      "Root Mean Squared Error of test data: 1.5038897168812015\n"
     ]
    }
   ],
   "source": [
    "from sklearn import metrics\n",
    "print('Mean Absolute Error of test data:', metrics.mean_absolute_error(Y_test, Y_predicted))  \n",
    "print('Mean Squared Error of test data:', metrics.mean_squared_error(Y_test, Y_predicted))  \n",
    "print('Root Mean Squared Error of test data:', np.sqrt(metrics.mean_squared_error(Y_test, Y_predicted)))"
   ]
  },
  {
   "cell_type": "code",
   "execution_count": 21,
   "metadata": {},
   "outputs": [
    {
     "name": "stdout",
     "output_type": "stream",
     "text": [
      "[0.29792691 0.35096541 0.3496052  0.32956057 0.37118287 0.32605442\n",
      " 0.31753135 0.29133876 0.33689163 0.318202  ]\n"
     ]
    }
   ],
   "source": [
    "from sklearn.model_selection import cross_val_score\n",
    "cv_results = cross_val_score(reg, X, Y, cv=10)\n",
    "print(cv_results)"
   ]
  },
  {
   "cell_type": "code",
   "execution_count": 22,
   "metadata": {},
   "outputs": [
    {
     "data": {
      "text/plain": [
       "0.32892591224681894"
      ]
     },
     "execution_count": 22,
     "metadata": {},
     "output_type": "execute_result"
    }
   ],
   "source": [
    "np.mean(cv_results)"
   ]
  },
  {
   "cell_type": "code",
   "execution_count": null,
   "metadata": {},
   "outputs": [],
   "source": []
  },
  {
   "cell_type": "markdown",
   "metadata": {},
   "source": [
    "# Suggesting company whether employee salary has to be increased or not in the next year"
   ]
  },
  {
   "cell_type": "code",
   "execution_count": 23,
   "metadata": {},
   "outputs": [
    {
     "data": {
      "text/plain": [
       "LinearRegression(copy_X=True, fit_intercept=True, n_jobs=None,\n",
       "         normalize=False)"
      ]
     },
     "execution_count": 23,
     "metadata": {},
     "output_type": "execute_result"
    }
   ],
   "source": [
    "reg.fit(X, Y)"
   ]
  },
  {
   "cell_type": "code",
   "execution_count": 24,
   "metadata": {},
   "outputs": [
    {
     "data": {
      "text/plain": [
       "array([ 1.37801633,  0.68362255,  2.22380061, ...,  0.14615618,\n",
       "        1.10088271, -0.04238371])"
      ]
     },
     "execution_count": 24,
     "metadata": {},
     "output_type": "execute_result"
    }
   ],
   "source": [
    "poverty = reg.predict(X)\n",
    "poverty"
   ]
  },
  {
   "cell_type": "code",
   "execution_count": 25,
   "metadata": {},
   "outputs": [],
   "source": [
    "test = pd.read_csv('testing-poverty.csv', index_col=0)"
   ]
  },
  {
   "cell_type": "code",
   "execution_count": 26,
   "metadata": {},
   "outputs": [
    {
     "data": {
      "text/plain": [
       "Index(['is_urban', 'age', 'female', 'married', 'literacy', 'can_add',\n",
       "       'can_divide', 'can_calc_percents', 'can_calc_compounding',\n",
       "       'employed_last_year', 'income_ag_livestock_last_year',\n",
       "       'income_friends_family_last_year', 'income_government_last_year',\n",
       "       'income_own_business_last_year', 'income_private_sector_last_year',\n",
       "       'income_public_sector_last_year', 'num_times_borrowed_last_year',\n",
       "       'borrowing_recency', 'formal_savings', 'informal_savings',\n",
       "       'cash_property_savings', 'has_insurance', 'has_investment',\n",
       "       'bank_interest_rate', 'mm_interest_rate', 'mfi_interest_rate',\n",
       "       'other_fsp_interest_rate', 'num_shocks_last_year',\n",
       "       'avg_shock_strength_last_year', 'borrowed_for_emergency_last_year',\n",
       "       'borrowed_for_daily_expenses_last_year',\n",
       "       'borrowed_for_home_or_biz_last_year', 'can_call', 'can_text',\n",
       "       'can_use_internet', 'can_make_transaction', 'advanced_phone_use',\n",
       "       'reg_bank_acct', 'reg_mm_acct', 'reg_formal_nbfi_account',\n",
       "       'financially_included', 'active_bank_user', 'active_mm_user',\n",
       "       'active_formal_nbfi_user', 'active_informal_nbfi_user',\n",
       "       'nonreg_active_mm_user', 'num_informal_institutions_last_year',\n",
       "       'countryC', 'countryD', 'countryF', 'countryG', 'countryI', 'countryJ',\n",
       "       'religionO', 'religionP', 'religionQ', 'religionX', 'hh_headHead',\n",
       "       'hh_headOther', 'hh_headSister/Brother', 'hh_headSon/Daughter',\n",
       "       'hh_headSpouse', 'hh_headUnknown', 'education_level1.0',\n",
       "       'education_level2.0', 'education_level3.0',\n",
       "       'employment_categoryhousewife_or_student', 'employment_categoryother',\n",
       "       'employment_categoryretired_or_disabled',\n",
       "       'employment_categoryunemployed', 'employment_typenot_working',\n",
       "       'employment_typeother', 'employment_typesalaried',\n",
       "       'employment_typeself_employed', 'share_hh_income2.0',\n",
       "       'share_hh_income3.0', 'share_hh_income4.0', 'share_hh_income5.0',\n",
       "       'phone_technology1', 'phone_technology2', 'phone_technology3',\n",
       "       'phone_ownership1', 'phone_ownership2', 'num_formal_institutions1',\n",
       "       'num_formal_institutions2', 'num_formal_institutions3',\n",
       "       'num_formal_institutions4', 'num_formal_institutions5',\n",
       "       'num_formal_institutions6', 'num_financial_activities1',\n",
       "       'num_financial_activities2', 'num_financial_activities3',\n",
       "       'num_financial_activities4', 'num_financial_activities5',\n",
       "       'num_financial_activities6', 'num_financial_activities7',\n",
       "       'num_financial_activities8', 'num_financial_activities9',\n",
       "       'num_financial_activities10'],\n",
       "      dtype='object')"
      ]
     },
     "execution_count": 26,
     "metadata": {},
     "output_type": "execute_result"
    }
   ],
   "source": [
    "test.columns"
   ]
  },
  {
   "cell_type": "code",
   "execution_count": 27,
   "metadata": {},
   "outputs": [],
   "source": [
    "testvalues = test.values"
   ]
  },
  {
   "cell_type": "code",
   "execution_count": 28,
   "metadata": {},
   "outputs": [
    {
     "data": {
      "text/plain": [
       "array([-0.41076864,  1.12830702,  0.26121342, ...,  2.01610176,\n",
       "       -1.4220557 ,  1.88084987])"
      ]
     },
     "execution_count": 28,
     "metadata": {},
     "output_type": "execute_result"
    }
   ],
   "source": [
    "poverty1 = reg.predict(testvalues)\n",
    "poverty1"
   ]
  },
  {
   "cell_type": "code",
   "execution_count": 29,
   "metadata": {},
   "outputs": [],
   "source": [
    "df = pd.DataFrame(poverty1)"
   ]
  },
  {
   "cell_type": "code",
   "execution_count": 30,
   "metadata": {},
   "outputs": [],
   "source": [
    "df = df.astype('float64')"
   ]
  },
  {
   "cell_type": "code",
   "execution_count": 31,
   "metadata": {},
   "outputs": [],
   "source": [
    "df.to_csv('poverty-model.csv')"
   ]
  },
  {
   "cell_type": "code",
   "execution_count": null,
   "metadata": {},
   "outputs": [],
   "source": []
  }
 ],
 "metadata": {
  "kernelspec": {
   "display_name": "Python 3",
   "language": "python",
   "name": "python3"
  },
  "language_info": {
   "codemirror_mode": {
    "name": "ipython",
    "version": 3
   },
   "file_extension": ".py",
   "mimetype": "text/x-python",
   "name": "python",
   "nbconvert_exporter": "python",
   "pygments_lexer": "ipython3",
   "version": "3.7.1"
  }
 },
 "nbformat": 4,
 "nbformat_minor": 2
}
