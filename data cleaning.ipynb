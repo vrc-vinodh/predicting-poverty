{
 "cells": [
  {
   "cell_type": "code",
   "execution_count": 1,
   "metadata": {},
   "outputs": [],
   "source": [
    "import pandas as pd\n",
    "import numpy as np\n",
    "from sklearn.linear_model import LinearRegression\n",
    "from sklearn.model_selection import train_test_split\n",
    "from sklearn.metrics import mean_squared_error, r2_score\n",
    "import matplotlib.pyplot as plt\n",
    "import statsmodels.api as sm"
   ]
  },
  {
   "cell_type": "code",
   "execution_count": 2,
   "metadata": {},
   "outputs": [],
   "source": [
    "data = pd.read_csv('train_values_wJZrCmI.csv', index_col=0)\n",
    "y1 = pd.read_csv('train_labels.csv', index_col=0)\n",
    "data = data.merge(y1, on='row_id')"
   ]
  },
  {
   "cell_type": "code",
   "execution_count": 3,
   "metadata": {
    "scrolled": false
   },
   "outputs": [],
   "source": [
    "data = data[data.poverty_probability != 1]\n",
    "data = data[data.poverty_probability != 0]"
   ]
  },
  {
   "cell_type": "code",
   "execution_count": 4,
   "metadata": {},
   "outputs": [],
   "source": [
    "data.loc[(data.poverty_probability < 0.5 ), 'poverty_prob'] = 0\n",
    "data.loc[(data.poverty_probability > 0.5 ), 'poverty_prob'] = 1"
   ]
  },
  {
   "cell_type": "code",
   "execution_count": 5,
   "metadata": {},
   "outputs": [
    {
     "data": {
      "text/plain": [
       "1.0    8057\n",
       "0.0    4347\n",
       "Name: poverty_prob, dtype: int64"
      ]
     },
     "execution_count": 5,
     "metadata": {},
     "output_type": "execute_result"
    }
   ],
   "source": [
    "data['poverty_prob'].value_counts()"
   ]
  },
  {
   "cell_type": "markdown",
   "metadata": {},
   "source": [
    "data['income'] = data['income_ag_livestock_last_year'] + data['income_friends_family_last_year'] + data['income_government_last_year']\n",
    "                   + data['income_own_business_last_year'] + data['income_private_sector_last_year'] + data['income_public_sector_last_year']"
   ]
  },
  {
   "cell_type": "code",
   "execution_count": 6,
   "metadata": {},
   "outputs": [],
   "source": [
    "#country = pd.get_dummies(data.country, drop_first=True).add_prefix('country')\n",
    "religion = pd.get_dummies(data.religion, drop_first=True).add_prefix('religion')\n",
    "relationship_to_hh_head = pd.get_dummies(data.relationship_to_hh_head, drop_first=True).add_prefix('hh_head')\n",
    "education_level = pd.get_dummies(data.education_level, drop_first=True).add_prefix('education_level')\n",
    "employment_category_last_year = pd.get_dummies(data.employment_category_last_year, drop_first=True).add_prefix('employment_category')\n",
    "employment_type_last_year   = pd.get_dummies(data.employment_type_last_year, drop_first=True).add_prefix('employment_type')\n",
    "share_hh_income_provided   = pd.get_dummies(data.share_hh_income_provided, drop_first=True).add_prefix('share_hh_income')\n",
    "phone_technology  = pd.get_dummies(data.phone_technology, drop_first=True).add_prefix('phone_technology')\n",
    "phone_ownership = pd.get_dummies(data.phone_ownership, drop_first=True).add_prefix('phone_ownership')\n",
    "num_formal_institutions_last_year  = pd.get_dummies(data.num_formal_institutions_last_year, drop_first=True).add_prefix('num_formal_institutions')\n",
    "num_financial_activities_last_year  =  pd.get_dummies(data.num_financial_activities_last_year, drop_first=True).add_prefix('num_financial_activities')"
   ]
  },
  {
   "cell_type": "code",
   "execution_count": 7,
   "metadata": {},
   "outputs": [],
   "source": [
    "testdata = pd.concat([data,religion, relationship_to_hh_head, education_level, employment_category_last_year,\n",
    "                     employment_type_last_year, share_hh_income_provided, phone_technology, phone_ownership, num_formal_institutions_last_year ,\n",
    "                     num_financial_activities_last_year], axis=1)"
   ]
  },
  {
   "cell_type": "code",
   "execution_count": 8,
   "metadata": {},
   "outputs": [],
   "source": [
    "testdata = testdata.drop(columns=['country', 'religion', 'relationship_to_hh_head', 'education_level', 'employment_category_last_year',\n",
    "                     'employment_type_last_year', 'share_hh_income_provided', 'phone_technology', 'phone_ownership', 'num_formal_institutions_last_year' ,\n",
    "                     'num_financial_activities_last_year'])"
   ]
  },
  {
   "cell_type": "code",
   "execution_count": 9,
   "metadata": {},
   "outputs": [],
   "source": [
    "def replace_boolean(testdata):\n",
    "    for col in testdata:\n",
    "        testdata[col].replace(True, 1, inplace=True)\n",
    "        testdata[col].replace(False, 0, inplace=True)\n",
    "\n",
    "replace_boolean(testdata)"
   ]
  },
  {
   "cell_type": "code",
   "execution_count": 10,
   "metadata": {},
   "outputs": [],
   "source": [
    "testdata = testdata.replace(np.nan, 0)"
   ]
  },
  {
   "cell_type": "code",
   "execution_count": 11,
   "metadata": {},
   "outputs": [],
   "source": [
    "testdata.to_csv('traindata-poverty.csv')"
   ]
  }
 ],
 "metadata": {
  "kernelspec": {
   "display_name": "Python 3",
   "language": "python",
   "name": "python3"
  },
  "language_info": {
   "codemirror_mode": {
    "name": "ipython",
    "version": 3
   },
   "file_extension": ".py",
   "mimetype": "text/x-python",
   "name": "python",
   "nbconvert_exporter": "python",
   "pygments_lexer": "ipython3",
   "version": "3.7.1"
  }
 },
 "nbformat": 4,
 "nbformat_minor": 2
}
