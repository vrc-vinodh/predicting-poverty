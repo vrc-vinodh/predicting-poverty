{
 "cells": [
  {
   "cell_type": "code",
   "execution_count": 1,
   "metadata": {},
   "outputs": [],
   "source": [
    "import pandas as pd\n",
    "import numpy as np\n",
    "from sklearn.linear_model import LinearRegression\n",
    "from sklearn.model_selection import train_test_split\n",
    "from sklearn.metrics import mean_squared_error, r2_score\n",
    "import matplotlib.pyplot as plt\n",
    "import statsmodels.api as sm"
   ]
  },
  {
   "cell_type": "code",
   "execution_count": 2,
   "metadata": {},
   "outputs": [],
   "source": [
    "data = pd.read_csv('test_values.csv', index_col=0)"
   ]
  },
  {
   "cell_type": "code",
   "execution_count": 3,
   "metadata": {},
   "outputs": [],
   "source": [
    "#country = pd.get_dummies(data.country, drop_first=True).add_prefix('country')\n",
    "religion = pd.get_dummies(data.religion, drop_first=True).add_prefix('religion')\n",
    "relationship_to_hh_head = pd.get_dummies(data.relationship_to_hh_head, drop_first=True).add_prefix('hh_head')\n",
    "education_level = pd.get_dummies(data.education_level, drop_first=True).add_prefix('education_level')\n",
    "employment_category_last_year = pd.get_dummies(data.employment_category_last_year, drop_first=True).add_prefix('employment_category')\n",
    "employment_type_last_year   = pd.get_dummies(data.employment_type_last_year, drop_first=True).add_prefix('employment_type')\n",
    "share_hh_income_provided   = pd.get_dummies(data.share_hh_income_provided, drop_first=True).add_prefix('share_hh_income')\n",
    "phone_technology  = pd.get_dummies(data.phone_technology, drop_first=True).add_prefix('phone_technology')\n",
    "phone_ownership = pd.get_dummies(data.phone_ownership, drop_first=True).add_prefix('phone_ownership')\n",
    "num_formal_institutions_last_year  = pd.get_dummies(data.num_formal_institutions_last_year, drop_first=True).add_prefix('num_formal_institutions')\n",
    "num_financial_activities_last_year  =  pd.get_dummies(data.num_financial_activities_last_year, drop_first=True).add_prefix('num_financial_activities')"
   ]
  },
  {
   "cell_type": "code",
   "execution_count": 4,
   "metadata": {},
   "outputs": [],
   "source": [
    "testdata = pd.concat([data, religion, relationship_to_hh_head, education_level, employment_category_last_year,\n",
    "                     employment_type_last_year, share_hh_income_provided, phone_technology, phone_ownership, num_formal_institutions_last_year ,\n",
    "                     num_financial_activities_last_year], axis=1)"
   ]
  },
  {
   "cell_type": "markdown",
   "metadata": {},
   "source": [
    "testdata = testdata.dropna(subset=['country'])"
   ]
  },
  {
   "cell_type": "code",
   "execution_count": 5,
   "metadata": {},
   "outputs": [],
   "source": [
    "testdata = testdata.drop(columns=['religion', 'relationship_to_hh_head', 'education_level', 'employment_category_last_year',\n",
    "                     'employment_type_last_year', 'share_hh_income_provided', 'phone_technology', 'phone_ownership', 'num_formal_institutions_last_year' ,\n",
    "                     'num_financial_activities_last_year'])"
   ]
  },
  {
   "cell_type": "code",
   "execution_count": 6,
   "metadata": {},
   "outputs": [],
   "source": [
    "def replace_boolean(testdata):\n",
    "    for col in testdata:\n",
    "        testdata[col].replace(True, 1, inplace=True)\n",
    "        testdata[col].replace(False, 0, inplace=True)\n",
    "\n",
    "replace_boolean(testdata)"
   ]
  },
  {
   "cell_type": "code",
   "execution_count": 7,
   "metadata": {},
   "outputs": [],
   "source": [
    "testdata = testdata.replace(np.nan, 0)"
   ]
  },
  {
   "cell_type": "code",
   "execution_count": 8,
   "metadata": {},
   "outputs": [],
   "source": [
    "testdata.to_csv('testing-poverty-country.csv')"
   ]
  },
  {
   "cell_type": "code",
   "execution_count": 9,
   "metadata": {},
   "outputs": [],
   "source": [
    "predictor = pd.read_csv('testing-poverty-country.csv', index_col=0)"
   ]
  },
  {
   "cell_type": "code",
   "execution_count": 10,
   "metadata": {},
   "outputs": [],
   "source": [
    "#Country\n",
    "predictorA = predictor[predictor.country == 'A']\n",
    "predictorC = predictor[predictor.country == 'C']\n",
    "predictorD = predictor[predictor.country == 'D']\n",
    "predictorF = predictor[predictor.country == 'F']\n",
    "predictorG = predictor[predictor.country == 'G']\n",
    "predictorI = predictor[predictor.country == 'I']\n",
    "predictorJ = predictor[predictor.country == 'J']"
   ]
  },
  {
   "cell_type": "code",
   "execution_count": 11,
   "metadata": {},
   "outputs": [],
   "source": [
    "predictorA = predictor.drop(columns=['country'])\n",
    "predictorC = predictor.drop(columns=['country'])\n",
    "predictorD = predictor.drop(columns=['country'])\n",
    "predictorF = predictor.drop(columns=['country'])\n",
    "predictorG = predictor.drop(columns=['country'])\n",
    "predictorI = predictor.drop(columns=['country'])\n",
    "predictorJ = predictor.drop(columns=['country'])"
   ]
  },
  {
   "cell_type": "markdown",
   "metadata": {},
   "source": [
    "internet"
   ]
  },
  {
   "cell_type": "markdown",
   "metadata": {},
   "source": [
    "predictorAIF = predictorA[predictorA.advanced_phone_use == 0]\n",
    "predictorCIF = predictorC[predictorC.advanced_phone_use == 0]\n",
    "predictorDIF = predictorD[predictorD.advanced_phone_use == 0]\n",
    "predictorFIF = predictorF[predictorF.advanced_phone_use == 0]\n",
    "predictorGIF = predictorG[predictorG.advanced_phone_use == 0]\n",
    "predictorIIF = predictorI[predictorI.advanced_phone_use == 0]\n",
    "predictorJIF = predictorJ[predictorJ.advanced_phone_use == 0]"
   ]
  },
  {
   "cell_type": "markdown",
   "metadata": {},
   "source": [
    "predictorAIT = predictorA[predictorA.advanced_phone_use == 1]\n",
    "predictorCIT = predictorC[predictorC.advanced_phone_use == 1]\n",
    "predictorDIT = predictorD[predictorD.advanced_phone_use == 1]\n",
    "predictorFIT = predictorF[predictorF.advanced_phone_use == 1]\n",
    "predictorGIT = predictorG[predictorG.advanced_phone_use == 1]\n",
    "predictorIIT = predictorI[predictorI.advanced_phone_use == 1]\n",
    "predictorJIT = predictorJ[predictorJ.advanced_phone_use == 1]"
   ]
  },
  {
   "cell_type": "markdown",
   "metadata": {},
   "source": [
    "predictorAIF1 = predictorAIF.drop(['country'], axis=1)\n",
    "predictorCIF1 = predictorCIF.drop(['country'], axis=1)\n",
    "predictorDIF1 = predictorDIF.drop(['country'], axis=1)\n",
    "predictorFIF1 = predictorFIF.drop(['country'], axis=1)\n",
    "predictorGIF1 = predictorGIF.drop(['country'], axis=1)\n",
    "predictorIIF1 = predictorIIF.drop(['country'], axis=1)\n",
    "predictorJIF1 = predictorJIF.drop(['country'], axis=1)"
   ]
  },
  {
   "cell_type": "markdown",
   "metadata": {},
   "source": [
    "predictorAIT1 = predictorAIT.drop(['country'], axis=1)\n",
    "predictorCIT1 = predictorCIT.drop(['country'], axis=1)\n",
    "predictorDIT1 = predictorDIT.drop(['country'], axis=1)\n",
    "predictorFIT1 = predictorFIT.drop(['country'], axis=1)\n",
    "predictorGIT1 = predictorGIT.drop(['country'], axis=1)\n",
    "predictorIIT1 = predictorIIT.drop(['country'], axis=1)\n",
    "predictorJIT1 = predictorJIT.drop(['country'], axis=1)"
   ]
  },
  {
   "cell_type": "markdown",
   "metadata": {},
   "source": [
    "predictorAIF1.to_csv('APF1.csv')\n",
    "predictorCIF1.to_csv('CPF1.csv')\n",
    "predictorDIF1.to_csv('DPF1.csv')\n",
    "predictorFIF1.to_csv('FPF1.csv')\n",
    "predictorGIF1.to_csv('GPF1.csv')\n",
    "predictorIIF1.to_csv('IPF1.csv')\n",
    "predictorJIF1.to_csv('JPF1.csv')\n",
    "\n",
    "predictorAIT1.to_csv('APT1.csv')\n",
    "predictorCIT1.to_csv('CPT1.csv')\n",
    "predictorDIT1.to_csv('DPT1.csv')\n",
    "predictorFIT1.to_csv('FPT1.csv')\n",
    "predictorGIT1.to_csv('GPT1.csv')\n",
    "predictorIIT1.to_csv('IPT1.csv')\n",
    "predictorJIT1.to_csv('JPT1.csv')"
   ]
  },
  {
   "cell_type": "code",
   "execution_count": 12,
   "metadata": {},
   "outputs": [],
   "source": [
    "predictorA.to_csv('A-valcountry.csv')\n",
    "predictorC.to_csv('C-valcountry.csv')\n",
    "predictorD.to_csv('D-valcountry.csv')\n",
    "predictorF.to_csv('F-valcountry.csv')\n",
    "predictorG.to_csv('G-valcountry.csv')\n",
    "predictorI.to_csv('I-valcountry.csv')\n",
    "predictorJ.to_csv('J-valcountry.csv')"
   ]
  }
 ],
 "metadata": {
  "kernelspec": {
   "display_name": "Python 3",
   "language": "python",
   "name": "python3"
  },
  "language_info": {
   "codemirror_mode": {
    "name": "ipython",
    "version": 3
   },
   "file_extension": ".py",
   "mimetype": "text/x-python",
   "name": "python",
   "nbconvert_exporter": "python",
   "pygments_lexer": "ipython3",
   "version": "3.7.1"
  }
 },
 "nbformat": 4,
 "nbformat_minor": 2
}
